{
 "cells": [
  {
   "cell_type": "code",
   "execution_count": 1,
   "id": "2e7ad14c-9ffa-44f8-875e-db67ca97472a",
   "metadata": {},
   "outputs": [
    {
     "name": "stdout",
     "output_type": "stream",
     "text": [
      "Accuracy: 1.0\n",
      "\n",
      "Correct Predictions:\n",
      "Input: [6.1 2.8 4.7 1.2] Actual Class: versicolor Predicted Class: versicolor\n",
      "Input: [5.7 3.8 1.7 0.3] Actual Class: setosa Predicted Class: setosa\n",
      "Input: [7.7 2.6 6.9 2.3] Actual Class: virginica Predicted Class: virginica\n",
      "Input: [6.  2.9 4.5 1.5] Actual Class: versicolor Predicted Class: versicolor\n",
      "Input: [6.8 2.8 4.8 1.4] Actual Class: versicolor Predicted Class: versicolor\n",
      "Input: [5.4 3.4 1.5 0.4] Actual Class: setosa Predicted Class: setosa\n",
      "Input: [5.6 2.9 3.6 1.3] Actual Class: versicolor Predicted Class: versicolor\n",
      "Input: [6.9 3.1 5.1 2.3] Actual Class: virginica Predicted Class: virginica\n",
      "Input: [6.2 2.2 4.5 1.5] Actual Class: versicolor Predicted Class: versicolor\n",
      "Input: [5.8 2.7 3.9 1.2] Actual Class: versicolor Predicted Class: versicolor\n",
      "Input: [6.5 3.2 5.1 2. ] Actual Class: virginica Predicted Class: virginica\n",
      "Input: [4.8 3.  1.4 0.1] Actual Class: setosa Predicted Class: setosa\n",
      "Input: [5.5 3.5 1.3 0.2] Actual Class: setosa Predicted Class: setosa\n",
      "Input: [4.9 3.1 1.5 0.1] Actual Class: setosa Predicted Class: setosa\n",
      "Input: [5.1 3.8 1.5 0.3] Actual Class: setosa Predicted Class: setosa\n",
      "Input: [6.3 3.3 4.7 1.6] Actual Class: versicolor Predicted Class: versicolor\n",
      "Input: [6.5 3.  5.8 2.2] Actual Class: virginica Predicted Class: virginica\n",
      "Input: [5.6 2.5 3.9 1.1] Actual Class: versicolor Predicted Class: versicolor\n",
      "Input: [5.7 2.8 4.5 1.3] Actual Class: versicolor Predicted Class: versicolor\n",
      "Input: [6.4 2.8 5.6 2.2] Actual Class: virginica Predicted Class: virginica\n",
      "Input: [4.7 3.2 1.6 0.2] Actual Class: setosa Predicted Class: setosa\n",
      "Input: [6.1 3.  4.9 1.8] Actual Class: virginica Predicted Class: virginica\n",
      "Input: [5.  3.4 1.6 0.4] Actual Class: setosa Predicted Class: setosa\n",
      "Input: [6.4 2.8 5.6 2.1] Actual Class: virginica Predicted Class: virginica\n",
      "Input: [7.9 3.8 6.4 2. ] Actual Class: virginica Predicted Class: virginica\n",
      "Input: [6.7 3.  5.2 2.3] Actual Class: virginica Predicted Class: virginica\n",
      "Input: [6.7 2.5 5.8 1.8] Actual Class: virginica Predicted Class: virginica\n",
      "Input: [6.8 3.2 5.9 2.3] Actual Class: virginica Predicted Class: virginica\n",
      "Input: [4.8 3.  1.4 0.3] Actual Class: setosa Predicted Class: setosa\n",
      "Input: [4.8 3.1 1.6 0.2] Actual Class: setosa Predicted Class: setosa\n",
      "Input: [4.6 3.6 1.  0.2] Actual Class: setosa Predicted Class: setosa\n",
      "Input: [5.7 4.4 1.5 0.4] Actual Class: setosa Predicted Class: setosa\n",
      "Input: [6.7 3.1 4.4 1.4] Actual Class: versicolor Predicted Class: versicolor\n",
      "Input: [4.8 3.4 1.6 0.2] Actual Class: setosa Predicted Class: setosa\n",
      "Input: [4.4 3.2 1.3 0.2] Actual Class: setosa Predicted Class: setosa\n",
      "Input: [6.3 2.5 5.  1.9] Actual Class: virginica Predicted Class: virginica\n",
      "Input: [6.4 3.2 4.5 1.5] Actual Class: versicolor Predicted Class: versicolor\n",
      "Input: [5.2 3.5 1.5 0.2] Actual Class: setosa Predicted Class: setosa\n",
      "Input: [5.  3.6 1.4 0.2] Actual Class: setosa Predicted Class: setosa\n",
      "Input: [5.2 4.1 1.5 0.1] Actual Class: setosa Predicted Class: setosa\n",
      "Input: [5.8 2.7 5.1 1.9] Actual Class: virginica Predicted Class: virginica\n",
      "Input: [6.  3.4 4.5 1.6] Actual Class: versicolor Predicted Class: versicolor\n",
      "Input: [6.7 3.1 4.7 1.5] Actual Class: versicolor Predicted Class: versicolor\n",
      "Input: [5.4 3.9 1.3 0.4] Actual Class: setosa Predicted Class: setosa\n",
      "Input: [5.4 3.7 1.5 0.2] Actual Class: setosa Predicted Class: setosa\n",
      "\n",
      "Wrong Predictions:\n",
      "\n",
      "Confusion Matrix:\n",
      "[[19  0  0]\n",
      " [ 0 13  0]\n",
      " [ 0  0 13]]\n"
     ]
    }
   ],
   "source": [
    "import numpy as np\n",
    "import pandas as pd\n",
    "from sklearn.datasets import load_iris\n",
    "from sklearn.model_selection import train_test_split\n",
    "from sklearn.neighbors import KNeighborsClassifier\n",
    "from sklearn.metrics import accuracy_score, confusion_matrix\n",
    "\n",
    "# Load the Iris dataset\n",
    "iris = load_iris()\n",
    "X = iris.data\n",
    "y = iris.target\n",
    "\n",
    "# Split the dataset into training and testing sets\n",
    "X_train, X_test, y_train, y_test = train_test_split(X, y, test_size=0.3, random_state=42)\n",
    "\n",
    "# Initialize the KNN classifier\n",
    "k = 3\n",
    "knn = KNeighborsClassifier(n_neighbors=k)\n",
    "\n",
    "# Train the KNN classifier\n",
    "knn.fit(X_train, y_train)\n",
    "\n",
    "# Make predictions on the testing set\n",
    "predictions = knn.predict(X_test)\n",
    "\n",
    "# Calculate accuracy\n",
    "accuracy = accuracy_score(y_test, predictions)\n",
    "print(\"Accuracy:\", accuracy)\n",
    "\n",
    "# Print correct and wrong predictions\n",
    "correct_predictions = []\n",
    "wrong_predictions = []\n",
    "for i in range(len(predictions)):\n",
    "    if predictions[i] == y_test[i]:\n",
    "        correct_predictions.append((X_test[i], y_test[i], predictions[i]))\n",
    "    else:\n",
    "        wrong_predictions.append((X_test[i], y_test[i], predictions[i]))\n",
    "\n",
    "print(\"\\nCorrect Predictions:\")\n",
    "for prediction in correct_predictions:\n",
    "    print(\"Input:\", prediction[0], \"Actual Class:\", iris.target_names[prediction[1]], \"Predicted Class:\", iris.target_names[prediction[2]])\n",
    "\n",
    "print(\"\\nWrong Predictions:\")\n",
    "for prediction in wrong_predictions:\n",
    "    print(\"Input:\", prediction[0], \"Actual Class:\", iris.target_names[prediction[1]], \"Predicted Class:\", iris.target_names[prediction[2]])\n",
    "\n",
    "# Confusion Matrix\n",
    "conf_matrix = confusion_matrix(y_test, predictions)\n",
    "print(\"\\nConfusion Matrix:\")\n",
    "print(conf_matrix)\n"
   ]
  },
  {
   "cell_type": "code",
   "execution_count": 11,
   "id": "99b10f1c-6b5e-4c9f-9ec1-22cb232ede24",
   "metadata": {},
   "outputs": [],
   "source": [
    "import pandas as pd\n",
    "import numpy as np\n",
    "from sklearn.datasets import load_iris\n",
    "from sklearn.model_selection import train_test_split\n",
    "from sklearn.neighbors import KNeighborsClassifier\n",
    "from sklearn.metrics import accuracy_score, confusion_matrix"
   ]
  },
  {
   "cell_type": "code",
   "execution_count": 15,
   "id": "0377baff-0655-4e80-baa9-215b954bc9be",
   "metadata": {},
   "outputs": [],
   "source": [
    "iris = load_iris()\n",
    "X = iris.data\n",
    "y = iris.target"
   ]
  },
  {
   "cell_type": "code",
   "execution_count": 17,
   "id": "2ca3c54d-4de4-445a-9dff-1f16f98ffd81",
   "metadata": {},
   "outputs": [],
   "source": [
    "X_train, X_test, y_train, y_test = train_test_split(X, y, test_size = 0.3, random_state = 42)"
   ]
  },
  {
   "cell_type": "code",
   "execution_count": 21,
   "id": "3c44b068-f181-4880-a4f9-06a19c1d6964",
   "metadata": {},
   "outputs": [
    {
     "data": {
      "text/html": [
       "<style>#sk-container-id-1 {color: black;}#sk-container-id-1 pre{padding: 0;}#sk-container-id-1 div.sk-toggleable {background-color: white;}#sk-container-id-1 label.sk-toggleable__label {cursor: pointer;display: block;width: 100%;margin-bottom: 0;padding: 0.3em;box-sizing: border-box;text-align: center;}#sk-container-id-1 label.sk-toggleable__label-arrow:before {content: \"▸\";float: left;margin-right: 0.25em;color: #696969;}#sk-container-id-1 label.sk-toggleable__label-arrow:hover:before {color: black;}#sk-container-id-1 div.sk-estimator:hover label.sk-toggleable__label-arrow:before {color: black;}#sk-container-id-1 div.sk-toggleable__content {max-height: 0;max-width: 0;overflow: hidden;text-align: left;background-color: #f0f8ff;}#sk-container-id-1 div.sk-toggleable__content pre {margin: 0.2em;color: black;border-radius: 0.25em;background-color: #f0f8ff;}#sk-container-id-1 input.sk-toggleable__control:checked~div.sk-toggleable__content {max-height: 200px;max-width: 100%;overflow: auto;}#sk-container-id-1 input.sk-toggleable__control:checked~label.sk-toggleable__label-arrow:before {content: \"▾\";}#sk-container-id-1 div.sk-estimator input.sk-toggleable__control:checked~label.sk-toggleable__label {background-color: #d4ebff;}#sk-container-id-1 div.sk-label input.sk-toggleable__control:checked~label.sk-toggleable__label {background-color: #d4ebff;}#sk-container-id-1 input.sk-hidden--visually {border: 0;clip: rect(1px 1px 1px 1px);clip: rect(1px, 1px, 1px, 1px);height: 1px;margin: -1px;overflow: hidden;padding: 0;position: absolute;width: 1px;}#sk-container-id-1 div.sk-estimator {font-family: monospace;background-color: #f0f8ff;border: 1px dotted black;border-radius: 0.25em;box-sizing: border-box;margin-bottom: 0.5em;}#sk-container-id-1 div.sk-estimator:hover {background-color: #d4ebff;}#sk-container-id-1 div.sk-parallel-item::after {content: \"\";width: 100%;border-bottom: 1px solid gray;flex-grow: 1;}#sk-container-id-1 div.sk-label:hover label.sk-toggleable__label {background-color: #d4ebff;}#sk-container-id-1 div.sk-serial::before {content: \"\";position: absolute;border-left: 1px solid gray;box-sizing: border-box;top: 0;bottom: 0;left: 50%;z-index: 0;}#sk-container-id-1 div.sk-serial {display: flex;flex-direction: column;align-items: center;background-color: white;padding-right: 0.2em;padding-left: 0.2em;position: relative;}#sk-container-id-1 div.sk-item {position: relative;z-index: 1;}#sk-container-id-1 div.sk-parallel {display: flex;align-items: stretch;justify-content: center;background-color: white;position: relative;}#sk-container-id-1 div.sk-item::before, #sk-container-id-1 div.sk-parallel-item::before {content: \"\";position: absolute;border-left: 1px solid gray;box-sizing: border-box;top: 0;bottom: 0;left: 50%;z-index: -1;}#sk-container-id-1 div.sk-parallel-item {display: flex;flex-direction: column;z-index: 1;position: relative;background-color: white;}#sk-container-id-1 div.sk-parallel-item:first-child::after {align-self: flex-end;width: 50%;}#sk-container-id-1 div.sk-parallel-item:last-child::after {align-self: flex-start;width: 50%;}#sk-container-id-1 div.sk-parallel-item:only-child::after {width: 0;}#sk-container-id-1 div.sk-dashed-wrapped {border: 1px dashed gray;margin: 0 0.4em 0.5em 0.4em;box-sizing: border-box;padding-bottom: 0.4em;background-color: white;}#sk-container-id-1 div.sk-label label {font-family: monospace;font-weight: bold;display: inline-block;line-height: 1.2em;}#sk-container-id-1 div.sk-label-container {text-align: center;}#sk-container-id-1 div.sk-container {/* jupyter's `normalize.less` sets `[hidden] { display: none; }` but bootstrap.min.css set `[hidden] { display: none !important; }` so we also need the `!important` here to be able to override the default hidden behavior on the sphinx rendered scikit-learn.org. See: https://github.com/scikit-learn/scikit-learn/issues/21755 */display: inline-block !important;position: relative;}#sk-container-id-1 div.sk-text-repr-fallback {display: none;}</style><div id=\"sk-container-id-1\" class=\"sk-top-container\"><div class=\"sk-text-repr-fallback\"><pre>KNeighborsClassifier(n_neighbors=3)</pre><b>In a Jupyter environment, please rerun this cell to show the HTML representation or trust the notebook. <br />On GitHub, the HTML representation is unable to render, please try loading this page with nbviewer.org.</b></div><div class=\"sk-container\" hidden><div class=\"sk-item\"><div class=\"sk-estimator sk-toggleable\"><input class=\"sk-toggleable__control sk-hidden--visually\" id=\"sk-estimator-id-1\" type=\"checkbox\" checked><label for=\"sk-estimator-id-1\" class=\"sk-toggleable__label sk-toggleable__label-arrow\">KNeighborsClassifier</label><div class=\"sk-toggleable__content\"><pre>KNeighborsClassifier(n_neighbors=3)</pre></div></div></div></div></div>"
      ],
      "text/plain": [
       "KNeighborsClassifier(n_neighbors=3)"
      ]
     },
     "execution_count": 21,
     "metadata": {},
     "output_type": "execute_result"
    }
   ],
   "source": [
    "k = 3\n",
    "knn = KNeighborsClassifier(n_neighbors=k)\n",
    "knn.fit(X_train, y_train)"
   ]
  },
  {
   "cell_type": "code",
   "execution_count": 31,
   "id": "e4ce9590-43f3-4d76-95e5-2da3f9ff4a1c",
   "metadata": {},
   "outputs": [
    {
     "data": {
      "text/plain": [
       "1.0"
      ]
     },
     "execution_count": 31,
     "metadata": {},
     "output_type": "execute_result"
    }
   ],
   "source": [
    "predictions = knn.predict(X_test)\n",
    "accuracy = accuracy_score(y_test, predictions)\n",
    "accuracy"
   ]
  },
  {
   "cell_type": "code",
   "execution_count": 41,
   "id": "36dbbdd2-b878-43ab-be3e-5f780b82a084",
   "metadata": {},
   "outputs": [],
   "source": [
    "correct = []\n",
    "wrong = []\n",
    "\n",
    "for i in range(len(predictions)):\n",
    "    if y_test[i] == predictions[i]:\n",
    "        correct.append((X_test[i], y_test[i], predictions[i]))\n",
    "    else:\n",
    "        wrong.append((X_test[i], y_test[i], predictions[i]))"
   ]
  },
  {
   "cell_type": "code",
   "execution_count": 51,
   "id": "394f99e7-8bcd-4859-bb1a-170d777b9d85",
   "metadata": {},
   "outputs": [
    {
     "name": "stdout",
     "output_type": "stream",
     "text": [
      "\n",
      "Correct Predictions :\n",
      "Input : [6.1 2.8 4.7 1.2], Actual class : versicolor, Predicted class : versicolor\n",
      "Input : [5.7 3.8 1.7 0.3], Actual class : setosa, Predicted class : setosa\n",
      "Input : [7.7 2.6 6.9 2.3], Actual class : virginica, Predicted class : virginica\n",
      "Input : [6.  2.9 4.5 1.5], Actual class : versicolor, Predicted class : versicolor\n",
      "Input : [6.8 2.8 4.8 1.4], Actual class : versicolor, Predicted class : versicolor\n",
      "Input : [5.4 3.4 1.5 0.4], Actual class : setosa, Predicted class : setosa\n",
      "Input : [5.6 2.9 3.6 1.3], Actual class : versicolor, Predicted class : versicolor\n",
      "Input : [6.9 3.1 5.1 2.3], Actual class : virginica, Predicted class : virginica\n",
      "Input : [6.2 2.2 4.5 1.5], Actual class : versicolor, Predicted class : versicolor\n",
      "Input : [5.8 2.7 3.9 1.2], Actual class : versicolor, Predicted class : versicolor\n",
      "Input : [6.5 3.2 5.1 2. ], Actual class : virginica, Predicted class : virginica\n",
      "Input : [4.8 3.  1.4 0.1], Actual class : setosa, Predicted class : setosa\n",
      "Input : [5.5 3.5 1.3 0.2], Actual class : setosa, Predicted class : setosa\n",
      "Input : [4.9 3.1 1.5 0.1], Actual class : setosa, Predicted class : setosa\n",
      "Input : [5.1 3.8 1.5 0.3], Actual class : setosa, Predicted class : setosa\n",
      "Input : [6.3 3.3 4.7 1.6], Actual class : versicolor, Predicted class : versicolor\n",
      "Input : [6.5 3.  5.8 2.2], Actual class : virginica, Predicted class : virginica\n",
      "Input : [5.6 2.5 3.9 1.1], Actual class : versicolor, Predicted class : versicolor\n",
      "Input : [5.7 2.8 4.5 1.3], Actual class : versicolor, Predicted class : versicolor\n",
      "Input : [6.4 2.8 5.6 2.2], Actual class : virginica, Predicted class : virginica\n",
      "Input : [4.7 3.2 1.6 0.2], Actual class : setosa, Predicted class : setosa\n",
      "Input : [6.1 3.  4.9 1.8], Actual class : virginica, Predicted class : virginica\n",
      "Input : [5.  3.4 1.6 0.4], Actual class : setosa, Predicted class : setosa\n",
      "Input : [6.4 2.8 5.6 2.1], Actual class : virginica, Predicted class : virginica\n",
      "Input : [7.9 3.8 6.4 2. ], Actual class : virginica, Predicted class : virginica\n",
      "Input : [6.7 3.  5.2 2.3], Actual class : virginica, Predicted class : virginica\n",
      "Input : [6.7 2.5 5.8 1.8], Actual class : virginica, Predicted class : virginica\n",
      "Input : [6.8 3.2 5.9 2.3], Actual class : virginica, Predicted class : virginica\n",
      "Input : [4.8 3.  1.4 0.3], Actual class : setosa, Predicted class : setosa\n",
      "Input : [4.8 3.1 1.6 0.2], Actual class : setosa, Predicted class : setosa\n",
      "Input : [4.6 3.6 1.  0.2], Actual class : setosa, Predicted class : setosa\n",
      "Input : [5.7 4.4 1.5 0.4], Actual class : setosa, Predicted class : setosa\n",
      "Input : [6.7 3.1 4.4 1.4], Actual class : versicolor, Predicted class : versicolor\n",
      "Input : [4.8 3.4 1.6 0.2], Actual class : setosa, Predicted class : setosa\n",
      "Input : [4.4 3.2 1.3 0.2], Actual class : setosa, Predicted class : setosa\n",
      "Input : [6.3 2.5 5.  1.9], Actual class : virginica, Predicted class : virginica\n",
      "Input : [6.4 3.2 4.5 1.5], Actual class : versicolor, Predicted class : versicolor\n",
      "Input : [5.2 3.5 1.5 0.2], Actual class : setosa, Predicted class : setosa\n",
      "Input : [5.  3.6 1.4 0.2], Actual class : setosa, Predicted class : setosa\n",
      "Input : [5.2 4.1 1.5 0.1], Actual class : setosa, Predicted class : setosa\n",
      "Input : [5.8 2.7 5.1 1.9], Actual class : virginica, Predicted class : virginica\n",
      "Input : [6.  3.4 4.5 1.6], Actual class : versicolor, Predicted class : versicolor\n",
      "Input : [6.7 3.1 4.7 1.5], Actual class : versicolor, Predicted class : versicolor\n",
      "Input : [5.4 3.9 1.3 0.4], Actual class : setosa, Predicted class : setosa\n",
      "Input : [5.4 3.7 1.5 0.2], Actual class : setosa, Predicted class : setosa\n",
      "\n",
      "Wrong Predictions :\n"
     ]
    }
   ],
   "source": [
    "print('\\nCorrect Predictions :')\n",
    "for prediction in correct:\n",
    "    print(f\"Input : {prediction[0]}, Actual class : {iris.target_names[prediction[1]]}, Predicted class : {iris.target_names[prediction[2]]}\")\n",
    "\n",
    "print('\\nWrong Predictions :')\n",
    "for prediction in wrong:\n",
    "    print(f\"Input : {prediction[0]}, Actual class : {iris.target_names[prediction[1]]}, Predicted class : {iris.target_names[prediction[2]]}\")"
   ]
  },
  {
   "cell_type": "code",
   "execution_count": 53,
   "id": "e354bcaa-53ee-426d-9313-a4636431e037",
   "metadata": {},
   "outputs": [
    {
     "data": {
      "text/plain": [
       "array([[19,  0,  0],\n",
       "       [ 0, 13,  0],\n",
       "       [ 0,  0, 13]], dtype=int64)"
      ]
     },
     "execution_count": 53,
     "metadata": {},
     "output_type": "execute_result"
    }
   ],
   "source": [
    "cm = confusion_matrix(y_test, predictions)\n",
    "cm"
   ]
  },
  {
   "cell_type": "code",
   "execution_count": 8,
   "id": "906662c6-3575-4320-8c42-8f990920ab09",
   "metadata": {},
   "outputs": [
    {
     "name": "stdout",
     "output_type": "stream",
     "text": [
      "\n",
      "Correct prediction\n",
      "Input : [6.4 2.8 5.6 2.1], Actual class : virginica, Predicted class : virginica\n",
      "Input : [7.7 3.  6.1 2.3], Actual class : virginica, Predicted class : virginica\n",
      "Input : [6.1 3.  4.6 1.4], Actual class : versicolor, Predicted class : versicolor\n",
      "Input : [6.8 3.  5.5 2.1], Actual class : virginica, Predicted class : virginica\n",
      "Input : [6.1 2.8 4.  1.3], Actual class : versicolor, Predicted class : versicolor\n",
      "Input : [6.3 2.7 4.9 1.8], Actual class : virginica, Predicted class : virginica\n",
      "Input : [6.  3.4 4.5 1.6], Actual class : versicolor, Predicted class : versicolor\n",
      "Input : [6.5 3.  5.2 2. ], Actual class : virginica, Predicted class : virginica\n",
      "Input : [6.8 3.2 5.9 2.3], Actual class : virginica, Predicted class : virginica\n",
      "Input : [6.1 3.  4.9 1.8], Actual class : virginica, Predicted class : virginica\n",
      "Input : [5.1 3.4 1.5 0.2], Actual class : setosa, Predicted class : setosa\n",
      "Input : [4.4 3.  1.3 0.2], Actual class : setosa, Predicted class : setosa\n",
      "Input : [5.  2.3 3.3 1. ], Actual class : versicolor, Predicted class : versicolor\n",
      "Input : [5.1 3.3 1.7 0.5], Actual class : setosa, Predicted class : setosa\n",
      "Input : [6.3 2.8 5.1 1.5], Actual class : virginica, Predicted class : virginica\n",
      "Input : [4.8 3.1 1.6 0.2], Actual class : setosa, Predicted class : setosa\n",
      "Input : [4.9 3.6 1.4 0.1], Actual class : setosa, Predicted class : setosa\n",
      "Input : [4.5 2.3 1.3 0.3], Actual class : setosa, Predicted class : setosa\n",
      "Input : [5.5 2.4 3.7 1. ], Actual class : versicolor, Predicted class : versicolor\n",
      "Input : [6.9 3.2 5.7 2.3], Actual class : virginica, Predicted class : virginica\n",
      "Input : [5.  3.5 1.6 0.6], Actual class : setosa, Predicted class : setosa\n",
      "Input : [4.7 3.2 1.3 0.2], Actual class : setosa, Predicted class : setosa\n",
      "Input : [5.6 2.9 3.6 1.3], Actual class : versicolor, Predicted class : versicolor\n",
      "Input : [6.  2.2 4.  1. ], Actual class : versicolor, Predicted class : versicolor\n",
      "Input : [6.3 3.3 4.7 1.6], Actual class : versicolor, Predicted class : versicolor\n",
      "Input : [5.8 2.7 4.1 1. ], Actual class : versicolor, Predicted class : versicolor\n",
      "Input : [5.  3.3 1.4 0.2], Actual class : setosa, Predicted class : setosa\n",
      "Input : [6.1 2.9 4.7 1.4], Actual class : versicolor, Predicted class : versicolor\n",
      "Input : [5.7 2.6 3.5 1. ], Actual class : versicolor, Predicted class : versicolor\n",
      "Input : [6.5 2.8 4.6 1.5], Actual class : versicolor, Predicted class : versicolor\n",
      "Input : [5.5 2.6 4.4 1.2], Actual class : versicolor, Predicted class : versicolor\n",
      "Input : [6.7 3.  5.2 2.3], Actual class : virginica, Predicted class : virginica\n",
      "Input : [5.8 4.  1.2 0.2], Actual class : setosa, Predicted class : setosa\n",
      "Input : [6.9 3.1 5.1 2.3], Actual class : virginica, Predicted class : virginica\n",
      "Input : [6.4 3.2 4.5 1.5], Actual class : versicolor, Predicted class : versicolor\n",
      "\n",
      "Wrong prediction\n",
      "Input : [6.  2.2 5.  1.5], Actual class : virginica, Predicted class : versicolor\n",
      "Input : [6.  2.7 5.1 1.6], Actual class : versicolor, Predicted class : virginica\n",
      "Input : [4.9 2.5 4.5 1.7], Actual class : virginica, Predicted class : versicolor\n"
     ]
    },
    {
     "data": {
      "text/plain": [
       "array([[10,  0,  0],\n",
       "       [ 0, 14,  1],\n",
       "       [ 0,  2, 11]], dtype=int64)"
      ]
     },
     "execution_count": 8,
     "metadata": {},
     "output_type": "execute_result"
    }
   ],
   "source": [
    "from sklearn.datasets import load_iris\n",
    "from sklearn.model_selection import train_test_split\n",
    "from sklearn.neighbors import KNeighborsClassifier\n",
    "from sklearn.metrics import classification_report, confusion_matrix\n",
    "\n",
    "iris = load_iris()\n",
    "X = iris.data\n",
    "y = iris.target\n",
    "\n",
    "X_train,X_test,y_train,y_test = train_test_split(X,y,random_state=4)\n",
    "knn = KNeighborsClassifier(n_neighbors=3)\n",
    "knn.fit(X_train, y_train)\n",
    "predictions = knn.predict(X_test)\n",
    "\n",
    "right=[]\n",
    "wrong=[]\n",
    "\n",
    "for i in range(len(predictions)):\n",
    "    if predictions[i] == y_test[i]:\n",
    "        right.append([X_test[i],y_test[i], predictions[i]])\n",
    "    else:\n",
    "        wrong.append([X_test[i],y_test[i], predictions[i]])\n",
    "\n",
    "print(\"\\nCorrect prediction\")\n",
    "for pred in right:\n",
    "    print(f\"Input : {pred[0]}, Actual class : {iris.target_names[pred[1]]}, Predicted class : {iris.target_names[pred[2]]}\")\n",
    "\n",
    "print(\"\\nWrong prediction\")\n",
    "for pred in wrong:\n",
    "    print(f\"Input : {pred[0]}, Actual class : {iris.target_names[pred[1]]}, Predicted class : {iris.target_names[pred[2]]}\")\n",
    "\n",
    "cm = confusion_matrix(y_test, predictions)\n",
    "cm"
   ]
  }
 ],
 "metadata": {
  "kernelspec": {
   "display_name": "Python 3 (ipykernel)",
   "language": "python",
   "name": "python3"
  },
  "language_info": {
   "codemirror_mode": {
    "name": "ipython",
    "version": 3
   },
   "file_extension": ".py",
   "mimetype": "text/x-python",
   "name": "python",
   "nbconvert_exporter": "python",
   "pygments_lexer": "ipython3",
   "version": "3.11.5"
  }
 },
 "nbformat": 4,
 "nbformat_minor": 5
}
