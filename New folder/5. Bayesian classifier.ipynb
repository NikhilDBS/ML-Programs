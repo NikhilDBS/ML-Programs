{
 "cells": [
  {
   "cell_type": "code",
   "execution_count": null,
   "id": "8b0b4e69",
   "metadata": {},
   "outputs": [],
   "source": [
    "from sklearn.datasets import fetch_20newsgroups\n",
    "from sklearn.feature_extraction.text import CountVectorizer\n",
    "from sklearn.naive_bayes import MultinomialNB\n",
    "from sklearn.metrics import accuracy_score, precision_score, recall_score\n",
    "\n",
    "newsgroups_train = fetch_20newsgroups(subset = 'train')\n",
    "newsgroups_test = fetch_20newsgroups(subset = 'test')\n",
    "\n",
    "vectorizer = CountVectorizer()\n",
    "X_train = vectorizer.fit_transform(newsgroups_train.data)\n",
    "X_test = vectorizer.transform(newsgroups_test.data)\n",
    "\n",
    "y_train = newsgroups_train.target\n",
    "y_test = newsgroups_test.target\n",
    "\n",
    "nb_classifier = MultinominalNB()\n",
    "nb_classifier.fit(X_train, y_train)\n",
    "\n",
    "y_pred = nb_classifier.predict(X_test)\n",
    "\n",
    "accuracy = accuracy_score(y_test, y_pred)\n",
    "precision = precision_score(y_test, y_pred, average = 'weighted')\n",
    "recall = recall_score(y_test, y_pred, average = 'weighted')\n",
    "\n",
    "print(\"Accuracy : \", accuracy)\n",
    "print(\"Precision : \", precision)\n",
    "print(\"Recall : \", recall)"
   ]
  },
  {
   "cell_type": "code",
   "execution_count": 1,
   "id": "062983ed",
   "metadata": {},
   "outputs": [
    {
     "name": "stdout",
     "output_type": "stream",
     "text": [
      "Accuracy: 0.7728359001593202\n",
      "Precision: 0.7616683207318354\n",
      "Recall: 0.7728359001593202\n"
     ]
    }
   ],
   "source": [
    "from sklearn.datasets import fetch_20newsgroups\n",
    "from sklearn.feature_extraction.text import CountVectorizer\n",
    "from sklearn.naive_bayes import MultinomialNB\n",
    "from sklearn.metrics import accuracy_score, precision_score, recall_score\n",
    "# load the dataset\n",
    "newsgroups_train = fetch_20newsgroups(subset='train')\n",
    "newsgroups_test = fetch_20newsgroups(subset='test')\n",
    "# vectorize the documents\n",
    "vectorizer = CountVectorizer()\n",
    "X_train = vectorizer.fit_transform(newsgroups_train.data)\n",
    "X_test = vectorizer.transform(newsgroups_test.data)\n",
    "# target labels\n",
    "y_train = newsgroups_train.target\n",
    "y_test = newsgroups_test.target\n",
    "# create a Naive Bayes Classifier model\n",
    "nb_classifier = MultinomialNB()\n",
    "# train the model on the training data\n",
    "nb_classifier.fit(X_train, y_train)\n",
    "\n",
    "# make predictions on the testing data\n",
    "y_pred = nb_classifier.predict(X_test)\n",
    "# calculate the accuracy, precision, and recall of the model\n",
    "accuracy = accuracy_score(y_test, y_pred)\n",
    "precision = precision_score(y_test, y_pred, average='weighted')\n",
    "recall = recall_score(y_test, y_pred, average='weighted')\n",
    "# print the results\n",
    "print(\"Accuracy:\", accuracy)\n",
    "print(\"Precision:\", precision)\n",
    "print(\"Recall:\", recall)\n"
   ]
  },
  {
   "cell_type": "code",
   "execution_count": 6,
   "id": "f1be9f5c",
   "metadata": {},
   "outputs": [
    {
     "name": "stdout",
     "output_type": "stream",
     "text": [
      "0.7728359001593202\n",
      "0.8357642183818333\n",
      "0.7728359001593202\n"
     ]
    }
   ],
   "source": [
    "from sklearn.datasets import fetch_20newsgroups\n",
    "from sklearn.feature_extraction.text import CountVectorizer\n",
    "from sklearn.naive_bayes import MultinomialNB\n",
    "from sklearn.metrics import accuracy_score, precision_score, recall_score\n",
    "\n",
    "newsgroups_train = fetch_20newsgroups(subset='train')\n",
    "newsgroups_test = fetch_20newsgroups(subset='test')\n",
    "\n",
    "vectorizer = CountVectorizer()\n",
    "X_train = vectorizer.fit_transform(newsgroups_train.data)\n",
    "X_test = vectorizer.transform(newsgroups_test.data)\n",
    "\n",
    "y_train = newsgroups_train.target\n",
    "y_test = newsgroups_test.target\n",
    "\n",
    "nb_classifier = MultinomialNB()\n",
    "nb_classifier.fit(X_train, y_train)\n",
    "\n",
    "y_pred = nb_classifier.predict(X_test)\n",
    "\n",
    "accuracy = accuracy_score(y_pred, y_test)\n",
    "precision = precision_score(y_pred, y_test, average='weighted')\n",
    "recall = recall_score(y_pred, y_test, average='weighted')\n",
    "\n",
    "print(accuracy)\n",
    "print(precision)\n",
    "print(recall)"
   ]
  },
  {
   "cell_type": "code",
   "execution_count": 8,
   "id": "af97741b-fb77-4390-83b2-e0dc0c1c03ef",
   "metadata": {},
   "outputs": [
    {
     "name": "stdout",
     "output_type": "stream",
     "text": [
      "Report:\n",
      "               precision    recall  f1-score   support\n",
      "\n",
      "           0       0.92      0.94      0.93       117\n",
      "           1       0.65      0.84      0.73       138\n",
      "           2       0.82      0.06      0.12       142\n",
      "           3       0.55      0.83      0.66       145\n",
      "           4       0.96      0.69      0.80       157\n",
      "           5       0.70      0.93      0.79       136\n",
      "           6       0.91      0.63      0.74       137\n",
      "           7       0.90      0.91      0.91       164\n",
      "           8       0.93      0.88      0.91       155\n",
      "           9       0.98      0.94      0.96       141\n",
      "          10       0.96      0.97      0.97       136\n",
      "          11       0.76      0.97      0.85       156\n",
      "          12       0.80      0.79      0.80       144\n",
      "          13       0.94      0.94      0.94       145\n",
      "          14       0.91      0.99      0.95       152\n",
      "          15       0.76      0.93      0.84       150\n",
      "          16       0.90      0.95      0.93       150\n",
      "          17       0.85      0.99      0.91       135\n",
      "          18       0.92      0.88      0.90       137\n",
      "          19       1.00      0.49      0.66        92\n",
      "\n",
      "    accuracy                           0.83      2829\n",
      "   macro avg       0.86      0.83      0.81      2829\n",
      "weighted avg       0.85      0.83      0.82      2829\n",
      "\n"
     ]
    }
   ],
   "source": [
    "from sklearn.datasets import fetch_20newsgroups\n",
    "from sklearn.naive_bayes import MultinomialNB\n",
    "from sklearn.feature_extraction.text import CountVectorizer\n",
    "from sklearn.model_selection import train_test_split\n",
    "from sklearn.metrics import classification_report\n",
    "\n",
    "data = fetch_20newsgroups()\n",
    "X = data.data\n",
    "y = data.target\n",
    "\n",
    "X_train,X_test, y_train, y_test = train_test_split(X,y, random_state=42)\n",
    "\n",
    "vectorizer = CountVectorizer()\n",
    "X_train = vectorizer.fit_transform(X_train)\n",
    "X_test = vectorizer.transform(X_test)\n",
    "\n",
    "nb = MultinomialNB()\n",
    "nb.fit(X_train, y_train)\n",
    "prediction = nb.predict(X_test)\n",
    "\n",
    "print(\"Report:\\n\", classification_report(y_test, prediction))"
   ]
  }
 ],
 "metadata": {
  "kernelspec": {
   "display_name": "Python 3 (ipykernel)",
   "language": "python",
   "name": "python3"
  },
  "language_info": {
   "codemirror_mode": {
    "name": "ipython",
    "version": 3
   },
   "file_extension": ".py",
   "mimetype": "text/x-python",
   "name": "python",
   "nbconvert_exporter": "python",
   "pygments_lexer": "ipython3",
   "version": "3.11.5"
  }
 },
 "nbformat": 4,
 "nbformat_minor": 5
}
