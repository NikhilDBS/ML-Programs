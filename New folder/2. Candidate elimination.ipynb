{
 "cells": [
  {
   "cell_type": "code",
   "execution_count": 1,
   "id": "5a941d72",
   "metadata": {},
   "outputs": [
    {
     "data": {
      "text/html": [
       "<div>\n",
       "<style scoped>\n",
       "    .dataframe tbody tr th:only-of-type {\n",
       "        vertical-align: middle;\n",
       "    }\n",
       "\n",
       "    .dataframe tbody tr th {\n",
       "        vertical-align: top;\n",
       "    }\n",
       "\n",
       "    .dataframe thead th {\n",
       "        text-align: right;\n",
       "    }\n",
       "</style>\n",
       "<table border=\"1\" class=\"dataframe\">\n",
       "  <thead>\n",
       "    <tr style=\"text-align: right;\">\n",
       "      <th></th>\n",
       "      <th>sky</th>\n",
       "      <th>air_temp</th>\n",
       "      <th>humidity</th>\n",
       "      <th>wind</th>\n",
       "      <th>water</th>\n",
       "      <th>forecast</th>\n",
       "      <th>enjoy_sport</th>\n",
       "    </tr>\n",
       "  </thead>\n",
       "  <tbody>\n",
       "    <tr>\n",
       "      <th>0</th>\n",
       "      <td>sunny</td>\n",
       "      <td>warm</td>\n",
       "      <td>normal</td>\n",
       "      <td>strong</td>\n",
       "      <td>warm</td>\n",
       "      <td>same</td>\n",
       "      <td>yes</td>\n",
       "    </tr>\n",
       "    <tr>\n",
       "      <th>1</th>\n",
       "      <td>sunny</td>\n",
       "      <td>warm</td>\n",
       "      <td>high</td>\n",
       "      <td>strong</td>\n",
       "      <td>warm</td>\n",
       "      <td>same</td>\n",
       "      <td>yes</td>\n",
       "    </tr>\n",
       "    <tr>\n",
       "      <th>2</th>\n",
       "      <td>rainy</td>\n",
       "      <td>cold</td>\n",
       "      <td>high</td>\n",
       "      <td>strong</td>\n",
       "      <td>warm</td>\n",
       "      <td>change</td>\n",
       "      <td>no</td>\n",
       "    </tr>\n",
       "    <tr>\n",
       "      <th>3</th>\n",
       "      <td>sunny</td>\n",
       "      <td>warm</td>\n",
       "      <td>high</td>\n",
       "      <td>strong</td>\n",
       "      <td>cool</td>\n",
       "      <td>change</td>\n",
       "      <td>yes</td>\n",
       "    </tr>\n",
       "  </tbody>\n",
       "</table>\n",
       "</div>"
      ],
      "text/plain": [
       "     sky air_temp humidity    wind water forecast enjoy_sport\n",
       "0  sunny     warm   normal  strong  warm     same         yes\n",
       "1  sunny     warm     high  strong  warm     same         yes\n",
       "2  rainy     cold     high  strong  warm   change          no\n",
       "3  sunny     warm     high  strong  cool   change         yes"
      ]
     },
     "execution_count": 1,
     "metadata": {},
     "output_type": "execute_result"
    }
   ],
   "source": [
    "import numpy as np\n",
    "import pandas as pd\n",
    "\n",
    "data = pd.read_csv(\"enjoysport.csv\")\n",
    "data"
   ]
  },
  {
   "cell_type": "code",
   "execution_count": 2,
   "id": "3efd7bba",
   "metadata": {},
   "outputs": [
    {
     "data": {
      "text/plain": [
       "array([['yes'],\n",
       "       ['yes'],\n",
       "       ['no'],\n",
       "       ['yes']], dtype=object)"
      ]
     },
     "execution_count": 2,
     "metadata": {},
     "output_type": "execute_result"
    }
   ],
   "source": [
    "#seperate the features and target varriables from the dataset\n",
    "features = np.array(data)[:,:-1]\n",
    "features\n",
    "\n",
    "target = np.array(data)[:,-1:]\n",
    "target"
   ]
  },
  {
   "cell_type": "code",
   "execution_count": 17,
   "id": "034e1609",
   "metadata": {},
   "outputs": [],
   "source": [
    "#candidate elimination algorithm\n",
    "def train(fea, tar):\n",
    "    #initialize specific_h as the first positive feature\n",
    "    for i, val in enumerate(tar):\n",
    "        if val == 'yes':\n",
    "            specific_h = fea[i].copy()\n",
    "            break\n",
    "    #initialise generral_h with '?'\n",
    "    general_h = [[\"?\" for i in range(len(specific_h))] for j in range(len(specific_h))]\n",
    "    #candidate elimination algorithm\n",
    "    for i, val in enumerate(fea):\n",
    "        #when the target var is +ve, change both S and G\n",
    "        if tar[i] == 'yes':\n",
    "            for x in range(len(specific_h)):\n",
    "                if val[x] != specific_h[x]:\n",
    "                    specific_h[x] = '?'\n",
    "                    general_h[x][x] = '?'\n",
    "                else : \n",
    "                    pass\n",
    "        #when the target var is -ve, change only G\n",
    "        if tar[i] == 'no':\n",
    "            for x in range(len(specific_h)):\n",
    "                if val[x] != specific_h[x]:\n",
    "                    general_h[x][x] = specific_h[x]\n",
    "                else:\n",
    "                    general_h[x][x]='?'\n",
    "        #to remove unnecessarry and redundant hypothesis from G\n",
    "        indices = [i for i, val in enumerate(general_h) if val == ['?','?','?','?','?','?']]\n",
    "        for i in indices:\n",
    "            general_h.remove(['?','?','?','?','?','?'])\n",
    "    return specific_h, general_h"
   ]
  },
  {
   "cell_type": "code",
   "execution_count": 18,
   "id": "0c851da3",
   "metadata": {},
   "outputs": [
    {
     "ename": "IndexError",
     "evalue": "list index out of range",
     "output_type": "error",
     "traceback": [
      "\u001b[1;31m---------------------------------------------------------------------------\u001b[0m",
      "\u001b[1;31mIndexError\u001b[0m                                Traceback (most recent call last)",
      "Cell \u001b[1;32mIn[18], line 1\u001b[0m\n\u001b[1;32m----> 1\u001b[0m S, G\u001b[38;5;241m=\u001b[39mtrain(features, target)\n\u001b[0;32m      2\u001b[0m \u001b[38;5;28mprint\u001b[39m(\u001b[38;5;124m\"\u001b[39m\u001b[38;5;124mS = \u001b[39m\u001b[38;5;124m\"\u001b[39m, S)\n\u001b[0;32m      3\u001b[0m \u001b[38;5;28mprint\u001b[39m(\u001b[38;5;124m\"\u001b[39m\u001b[38;5;124mG = \u001b[39m\u001b[38;5;124m\"\u001b[39m, G)\n",
      "Cell \u001b[1;32mIn[17], line 17\u001b[0m, in \u001b[0;36mtrain\u001b[1;34m(fea, tar)\u001b[0m\n\u001b[0;32m     15\u001b[0m \u001b[38;5;28;01mif\u001b[39;00m val[x] \u001b[38;5;241m!=\u001b[39m specific_h[x]:\n\u001b[0;32m     16\u001b[0m     specific_h[x] \u001b[38;5;241m=\u001b[39m \u001b[38;5;124m'\u001b[39m\u001b[38;5;124m?\u001b[39m\u001b[38;5;124m'\u001b[39m\n\u001b[1;32m---> 17\u001b[0m     general_h[x][x] \u001b[38;5;241m=\u001b[39m \u001b[38;5;124m'\u001b[39m\u001b[38;5;124m?\u001b[39m\u001b[38;5;124m'\u001b[39m\n\u001b[0;32m     18\u001b[0m \u001b[38;5;28;01melse\u001b[39;00m : \n\u001b[0;32m     19\u001b[0m     \u001b[38;5;28;01mpass\u001b[39;00m\n",
      "\u001b[1;31mIndexError\u001b[0m: list index out of range"
     ]
    }
   ],
   "source": [
    "S, G=train(features, target)\n",
    "print(\"S = \", S)\n",
    "print(\"G = \", G)"
   ]
  },
  {
   "cell_type": "code",
   "execution_count": 16,
   "id": "ca01103d",
   "metadata": {},
   "outputs": [
    {
     "ename": "IndentationError",
     "evalue": "unexpected indent (989671108.py, line 20)",
     "output_type": "error",
     "traceback": [
      "\u001b[1;36m  Cell \u001b[1;32mIn[16], line 20\u001b[1;36m\u001b[0m\n\u001b[1;33m    specific_h = concepts[0].copy()\u001b[0m\n\u001b[1;37m    ^\u001b[0m\n\u001b[1;31mIndentationError\u001b[0m\u001b[1;31m:\u001b[0m unexpected indent\n"
     ]
    }
   ],
   "source": [
    "#Sajitha ma'am code\n",
    "import numpy as np\n",
    "import pandas as pd\n",
    "# Loading Data from a CSV File\n",
    "data = pd.DataFrame(data=pd.read_csv(\"enjoysport.csv\"))\n",
    "# Separating concept features from Target\n",
    "concepts = np.array(data.iloc[:,0:-1])\n",
    "# Isolating target into a separate DataFrame\n",
    "#copying last column to target array\n",
    "target = np.array(data.iloc[:,-1])\n",
    "def learn(concepts, target):\n",
    " '''\n",
    " learn() function implements the learning method of the Candidate elimination algorithm.\n",
    " Arguments:\n",
    " concepts - a data frame with all the features\n",
    " target - a data frame with corresponding output values\n",
    " '''\n",
    " # Initialise S0 with the first instance from concepts\n",
    " # .copy() makes sure a new list is created instead of just pointing to the same memory location\n",
    "     specific_h = concepts[0].copy()\n",
    "     print(\"initialization of specific_h and general_h\")\n",
    "     print(specific_h)\n",
    "     general_h = [[\"?\" for i in range(len(specific_h))] for i in range(len(specific_h))]\n",
    "     print(general_h)\n",
    "     # The learning iterations\n",
    "     for i, h in enumerate(concepts):\n",
    "     # Checking if the hypothesis has a positive target\n",
    "         if target[i] == \"Yes\":\n",
    "             for x in range(len(specific_h)):\n",
    "     # Change values in S & G only if values change\n",
    "                 if h[x] != specific_h[x]:\n",
    "                     specific_h[x] = '?'\n",
    "                     general_h[x][x] = '?'\n",
    "     # Checking if the hypothesis has a positive target\n",
    "         if target[i] == \"No\":\n",
    "             for x in range(len(specific_h)):\n",
    "     # For negative hyposthesis change values only in G\n",
    "                 if h[x] != specific_h[x]:\n",
    "                     general_h[x][x] = specific_h[x]\n",
    "                 else:\n",
    "                     general_h[x][x] = '?'\n",
    "         print(\" steps of Candidate Elimination Algorithm\",i+1)\n",
    "         print(specific_h)\n",
    "         print(general_h)\n",
    "         # find indices where we have empty rows, meaning those that are unchanged\n",
    "     indices = [i for i, val in enumerate(general_h) if val == ['?', '?', '?', '?', '?', '?']]\n",
    "     for i in indices:\n",
    "     # remove those rows from general_h\n",
    "         general_h.remove(['?', '?', '?', '?', '?', '?'])\n",
    "     # Return final values\n",
    "     return specific_h, general_h\n",
    "s_final, g_final = learn(concepts, target)\n",
    "print(\"Final Specific_h:\", s_final, sep=\"\\n\")\n",
    "print(\"Final General_h:\", g_final, sep=\"\\n\")"
   ]
  },
  {
   "cell_type": "markdown",
   "id": "5cf6beae",
   "metadata": {},
   "source": [
    "# Working"
   ]
  },
  {
   "cell_type": "code",
   "execution_count": 24,
   "id": "82e1b977",
   "metadata": {},
   "outputs": [
    {
     "name": "stdout",
     "output_type": "stream",
     "text": [
      "Steps :\n",
      "['sunny', 'warm', 'normal', 'strong', 'warm', 'same']\n",
      "[['?', '?', '?', '?', '?', '?'], ['?', '?', '?', '?', '?', '?'], ['?', '?', '?', '?', '?', '?'], ['?', '?', '?', '?', '?', '?'], ['?', '?', '?', '?', '?', '?'], ['?', '?', '?', '?', '?', '?']]\n",
      "Steps :\n",
      "['sunny', 'warm', 'normal', 'strong', 'warm', 'same']\n",
      "[['?', '?', '?', '?', '?', '?'], ['?', '?', '?', '?', '?', '?'], ['?', '?', '?', '?', '?', '?'], ['?', '?', '?', '?', '?', '?'], ['?', '?', '?', '?', '?', '?'], ['?', '?', '?', '?', '?', '?']]\n",
      "Steps :\n",
      "['sunny', 'warm', '?', 'strong', 'warm', 'same']\n",
      "[['?', '?', '?', '?', '?', '?'], ['?', '?', '?', '?', '?', '?'], ['?', '?', '?', '?', '?', '?'], ['?', '?', '?', '?', '?', '?'], ['?', '?', '?', '?', '?', '?'], ['?', '?', '?', '?', '?', '?']]\n",
      "Steps :\n",
      "['sunny', 'warm', '?', 'strong', 'warm', 'same']\n",
      "[['sunny', '?', '?', '?', '?', '?'], ['?', 'warm', '?', '?', '?', '?'], ['?', '?', '?', '?', '?', '?'], ['?', '?', '?', '?', '?', '?'], ['?', '?', '?', '?', '?', '?'], ['?', '?', '?', '?', '?', 'same']]\n",
      "Steps :\n",
      "['sunny', 'warm', '?', 'strong', '?', '?']\n",
      "[['sunny', '?', '?', '?', '?', '?'], ['?', 'warm', '?', '?', '?', '?'], ['?', '?', '?', '?', '?', '?'], ['?', '?', '?', '?', '?', '?'], ['?', '?', '?', '?', '?', '?'], ['?', '?', '?', '?', '?', '?']]\n",
      "S :  ['sunny', 'warm', '?', 'strong', '?', '?']\n",
      "G :  [['sunny', '?', '?', '?', '?', '?'], ['?', 'warm', '?', '?', '?', '?']]\n"
     ]
    }
   ],
   "source": [
    "#youtube video\n",
    "import csv\n",
    "\n",
    "with open(\"enjoysport.csv\") as f:\n",
    "    csv_file = csv.reader(f)\n",
    "    data = list(csv_file)\n",
    "    \n",
    "    #initialize the hypethosis\n",
    "    specific = data[1] [:-1]\n",
    "    general = [['?' for i in range(len(specific))] for j in range(len(specific))]\n",
    "    \n",
    "    #algorithm\n",
    "    for val in data:\n",
    "        #refrencing the target values\n",
    "        if val[-1]=='yes':\n",
    "            for x in range(len(specific)):\n",
    "                if val[x] != specific[x]:\n",
    "                    specific[x]='?'\n",
    "                    general[x][x]='?'\n",
    "        \n",
    "        elif val[-1]=='no':\n",
    "            for x in range(len(specific)):\n",
    "                if val[x] != specific[x]:                    \n",
    "                    general[x][x] = specific[x]\n",
    "                else :\n",
    "                    general[x][x] = '?'\n",
    "        \n",
    "        #printing the steps\n",
    "        print(\"Steps :\")\n",
    "        print(specific)\n",
    "        print(general)\n",
    "        \n",
    "    #deleting unnecessary hypothesis\n",
    "    gh = [] #gh -> General Hypothesis\n",
    "    for i in general:\n",
    "        for j in i:\n",
    "            if j != '?':\n",
    "                gh.append(i)\n",
    "                break\n",
    "    #printing the final hypothesis\n",
    "    print(\"S : \", specific)\n",
    "    print(\"G : \", gh)"
   ]
  },
  {
   "cell_type": "markdown",
   "id": "bb3db904",
   "metadata": {},
   "source": [
    "# #Practice"
   ]
  },
  {
   "cell_type": "code",
   "execution_count": 29,
   "id": "fbd00b6e",
   "metadata": {},
   "outputs": [
    {
     "name": "stdout",
     "output_type": "stream",
     "text": [
      "Steps  0  : \n",
      "['sunny', 'warm', 'normal', 'strong', 'warm', 'same']\n",
      "[['?', '?', '?', '?', '?', '?'], ['?', '?', '?', '?', '?', '?'], ['?', '?', '?', '?', '?', '?'], ['?', '?', '?', '?', '?', '?'], ['?', '?', '?', '?', '?', '?'], ['?', '?', '?', '?', '?', '?']]\n",
      "Steps  1  : \n",
      "['sunny', 'warm', 'normal', 'strong', 'warm', 'same']\n",
      "[['?', '?', '?', '?', '?', '?'], ['?', '?', '?', '?', '?', '?'], ['?', '?', '?', '?', '?', '?'], ['?', '?', '?', '?', '?', '?'], ['?', '?', '?', '?', '?', '?'], ['?', '?', '?', '?', '?', '?']]\n",
      "Steps  2  : \n",
      "['sunny', 'warm', '?', 'strong', 'warm', 'same']\n",
      "[['?', '?', '?', '?', '?', '?'], ['?', '?', '?', '?', '?', '?'], ['?', '?', '?', '?', '?', '?'], ['?', '?', '?', '?', '?', '?'], ['?', '?', '?', '?', '?', '?'], ['?', '?', '?', '?', '?', '?']]\n",
      "Steps  3  : \n",
      "['sunny', 'warm', '?', 'strong', 'warm', 'same']\n",
      "[['sunny', '?', '?', '?', '?', '?'], ['?', 'warm', '?', '?', '?', '?'], ['?', '?', '?', '?', '?', '?'], ['?', '?', '?', '?', '?', '?'], ['?', '?', '?', '?', '?', '?'], ['?', '?', '?', '?', '?', 'same']]\n",
      "Steps  4  : \n",
      "['sunny', 'warm', '?', 'strong', '?', '?']\n",
      "[['sunny', '?', '?', '?', '?', '?'], ['?', 'warm', '?', '?', '?', '?'], ['?', '?', '?', '?', '?', '?'], ['?', '?', '?', '?', '?', '?'], ['?', '?', '?', '?', '?', '?'], ['?', '?', '?', '?', '?', '?']]\n",
      "S :  ['sunny', 'warm', '?', 'strong', '?', '?']\n",
      "G :  [['sunny', '?', '?', '?', '?', '?'], ['?', 'warm', '?', '?', '?', '?']]\n"
     ]
    }
   ],
   "source": [
    "import csv\n",
    "\n",
    "with open(\"enjoysport.csv\") as f:\n",
    "    csv_file = csv.reader(f)\n",
    "    data = list(csv_file)\n",
    "    \n",
    "    specific = data[1][:-1]\n",
    "    general = [['?' for i in range(len(specific))] for j in range(len(specific))]\n",
    "    n=0\n",
    "    \n",
    "    for val in data:\n",
    "        if val[-1] == 'yes':\n",
    "            for x in range(len(specific)):\n",
    "                if val[x] != specific[x]:\n",
    "                    specific[x] = '?'\n",
    "                    general[x][x] = '?'\n",
    "        elif val[-1] == 'no':\n",
    "            for x in range(len(specific)):\n",
    "                if val[x] != specific[x]:                   \n",
    "                    general[x][x] =  specific[x]\n",
    "                else:\n",
    "                    general[x][x]='?'\n",
    "        print(\"Steps \",n,\" : \")\n",
    "        n+=1\n",
    "        print(specific)\n",
    "        print(general)\n",
    "        \n",
    "    gh = []\n",
    "    for i in general:\n",
    "        for j in i:\n",
    "            if j != '?':\n",
    "                gh.append(i)\n",
    "                break\n",
    "    print(\"S : \", specific)\n",
    "    print(\"G : \", gh)"
   ]
  },
  {
   "cell_type": "code",
   "execution_count": null,
   "id": "46283b61",
   "metadata": {},
   "outputs": [],
   "source": []
  }
 ],
 "metadata": {
  "kernelspec": {
   "display_name": "Python 3 (ipykernel)",
   "language": "python",
   "name": "python3"
  },
  "language_info": {
   "codemirror_mode": {
    "name": "ipython",
    "version": 3
   },
   "file_extension": ".py",
   "mimetype": "text/x-python",
   "name": "python",
   "nbconvert_exporter": "python",
   "pygments_lexer": "ipython3",
   "version": "3.11.5"
  }
 },
 "nbformat": 4,
 "nbformat_minor": 5
}
